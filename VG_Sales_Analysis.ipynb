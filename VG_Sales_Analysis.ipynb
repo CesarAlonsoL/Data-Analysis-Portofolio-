{
 "cells": [
  {
   "cell_type": "markdown",
   "id": "7444132b-2cf7-4ac3-b894-ad5e6f41b1fa",
   "metadata": {
    "noteable": {
     "cell_type": "markdown"
    }
   },
   "source": [
    "## Welcome to my second project! 🙋‍♂️🎮\n",
    "In this project, we will be analyzing a dataset of video game sales. This dataset, extracted from Kaggle, contains a wealth of information about video game sales across different platforms, genres, and regions. We will explore various aspects of this data, such as the most popular genres, the best-selling games, and trends in video game sales over the years."
   ]
  },
  {
   "cell_type": "markdown",
   "id": "09eeb385-98b3-446c-b4fb-e6957d04ce78",
   "metadata": {
    "noteable": {
     "cell_type": "markdown"
    }
   },
   "source": [
    "## 1. Motivation & Inspiration\n",
    "As a personal hobby, I've always enjoyed immersing myself in the world of video games during my free time. The captivating stories, engaging gameplay, and innovative mechanics found in these games have always fascinated me. On a professional level, my interest in data analysis has led me to explore the vast and dynamic industry of video gaming from a different perspective. By analyzing video game sales data, I aim to gain insights into the trends and patterns that drive this industry. This project not only allows me to combine my personal interest and professional skills, but also adds diversity to my data analysis portfolio."
   ]
  },
  {
   "cell_type": "markdown",
   "id": "7a7c73a7-5979-4cbf-92dc-4ac178226460",
   "metadata": {
    "noteable": {
     "cell_type": "markdown"
    }
   },
   "source": [
    "## 2. Load libraries & data"
   ]
  },
  {
   "cell_type": "code",
   "execution_count": 3,
   "id": "bf232350-2c9d-467a-9ac7-085e21eb0c7d",
   "metadata": {
    "ExecuteTime": {
     "end_time": "2023-09-05T08:25:24.807442+00:00",
     "start_time": "2023-09-05T08:25:24.132039+00:00"
    },
    "noteable": {
     "cell_type": "code",
     "output_collection_id": "c5cebb46-b4fc-441b-927c-d9fcb124b226"
    }
   },
   "outputs": [],
   "source": [
    "import numpy as np\n",
    "import pandas as pd\n",
    "import scipy.stats as st\n",
    "pd.set_option('display.max_columns', None)\n",
    "\n",
    "import math\n",
    "\n",
    "import matplotlib.pyplot as plt\n",
    "%matplotlib inline\n",
    "\n",
    "import seaborn as sns\n",
    "sns.set_style('whitegrid')\n",
    "\n",
    "from sklearn.preprocessing import StandardScaler\n",
    "from scipy import stats\n",
    "\n",
    "data = pd.read_csv('vgsales.csv')"
   ]
  },
  {
   "cell_type": "markdown",
   "id": "be930f03-0af8-4b5f-a327-7837ca109edc",
   "metadata": {
    "noteable": {
     "cell_type": "markdown"
    }
   },
   "source": [
    "## 3. Inspecting the data"
   ]
  },
  {
   "cell_type": "code",
   "execution_count": 4,
   "id": "54964263-bb03-45ad-9115-f983dac73941",
   "metadata": {
    "ExecuteTime": {
     "end_time": "2023-09-05T08:25:26.403355+00:00",
     "start_time": "2023-09-05T08:25:26.168331+00:00"
    },
    "datalink": {
     "07589847-d4cf-45ce-b455-f96b85ec3c83": {
      "applied_filters": [],
      "dataframe_info": {
       "default_index_used": true,
       "orig_num_cols": 11,
       "orig_num_rows": 5,
       "orig_size_bytes": 480,
       "truncated_num_cols": 11,
       "truncated_num_rows": 5,
       "truncated_size_bytes": 480,
       "truncated_string_columns": []
      },
      "display_id": "07589847-d4cf-45ce-b455-f96b85ec3c83",
      "dx_settings": {
       "ALLOW_NOTEABLE_ATTRS": true,
       "COLUMN_SAMPLING_METHOD": "outer",
       "DB_LOCATION": ":memory:",
       "DEV_MODE": false,
       "DISPLAY_MAX_COLUMNS": 100,
       "DISPLAY_MAX_ROWS": 50000,
       "DISPLAY_MODE": "simple",
       "ENABLE_ASSIGNMENT": true,
       "ENABLE_DATALINK": true,
       "FLATTEN_COLUMN_VALUES": true,
       "FLATTEN_INDEX_VALUES": false,
       "GENERATE_DEX_METADATA": false,
       "HTML_TABLE_SCHEMA": false,
       "LOG_LEVEL": 30,
       "MAX_RENDER_SIZE_BYTES": 104857600,
       "MAX_STRING_LENGTH": 250,
       "NUM_PAST_SAMPLES_TRACKED": 3,
       "RANDOM_STATE": 12648430,
       "RESET_INDEX_VALUES": false,
       "ROW_SAMPLING_METHOD": "random",
       "SAMPLING_FACTOR": 0.1,
       "SAMPLING_METHOD": "random",
       "STRINGIFY_COLUMN_VALUES": true,
       "STRINGIFY_INDEX_VALUES": false
      },
      "sample_history": [],
      "sampling_time": "2023-06-13T11:53:55.595197",
      "user_variable_name": null,
      "variable_name": "unk_dataframe_cdc6925af91943fabe58f4190b2a52d7"
     },
     "200a090c-d771-4179-b2f7-593f8eb31c86": {
      "applied_filters": [],
      "dataframe_info": {
       "default_index_used": true,
       "orig_num_cols": 11,
       "orig_num_rows": 5,
       "orig_size_bytes": 480,
       "truncated_num_cols": 11,
       "truncated_num_rows": 5,
       "truncated_size_bytes": 480,
       "truncated_string_columns": []
      },
      "display_id": "200a090c-d771-4179-b2f7-593f8eb31c86",
      "dx_settings": {
       "ALLOW_NOTEABLE_ATTRS": true,
       "COLUMN_SAMPLING_METHOD": "outer",
       "DB_LOCATION": ":memory:",
       "DEV_MODE": false,
       "DISPLAY_MAX_COLUMNS": 100,
       "DISPLAY_MAX_ROWS": 50000,
       "DISPLAY_MODE": "simple",
       "ENABLE_ASSIGNMENT": true,
       "ENABLE_DATALINK": true,
       "FLATTEN_COLUMN_VALUES": true,
       "FLATTEN_INDEX_VALUES": false,
       "GENERATE_DEX_METADATA": false,
       "HTML_TABLE_SCHEMA": false,
       "LOG_LEVEL": 30,
       "MAX_RENDER_SIZE_BYTES": 104857600,
       "MAX_STRING_LENGTH": 250,
       "NUM_PAST_SAMPLES_TRACKED": 3,
       "RANDOM_STATE": 12648430,
       "RESET_INDEX_VALUES": false,
       "ROW_SAMPLING_METHOD": "random",
       "SAMPLING_FACTOR": 0.1,
       "SAMPLING_METHOD": "random",
       "STRINGIFY_COLUMN_VALUES": true,
       "STRINGIFY_INDEX_VALUES": false
      },
      "sample_history": [],
      "sampling_time": "2023-09-04T10:13:15.808456",
      "user_variable_name": null,
      "variable_name": "unk_dataframe_a4e2274cb7ce4099a78fb16c9dc7ed16"
     },
     "36e28469-c265-4f39-80db-e35de41c101a": {
      "applied_filters": [],
      "dataframe_info": {
       "default_index_used": true,
       "orig_num_cols": 11,
       "orig_num_rows": 5,
       "orig_size_bytes": 480,
       "truncated_num_cols": 11,
       "truncated_num_rows": 5,
       "truncated_size_bytes": 480,
       "truncated_string_columns": []
      },
      "display_id": "36e28469-c265-4f39-80db-e35de41c101a",
      "dx_settings": {
       "ALLOW_NOTEABLE_ATTRS": true,
       "COLUMN_SAMPLING_METHOD": "outer",
       "DB_LOCATION": ":memory:",
       "DEV_MODE": false,
       "DISPLAY_MAX_COLUMNS": 100,
       "DISPLAY_MAX_ROWS": 50000,
       "DISPLAY_MODE": "simple",
       "ENABLE_ASSIGNMENT": true,
       "ENABLE_DATALINK": true,
       "FLATTEN_COLUMN_VALUES": true,
       "FLATTEN_INDEX_VALUES": false,
       "GENERATE_DEX_METADATA": false,
       "HTML_TABLE_SCHEMA": false,
       "LOG_LEVEL": 30,
       "MAX_RENDER_SIZE_BYTES": 104857600,
       "MAX_STRING_LENGTH": 250,
       "NUM_PAST_SAMPLES_TRACKED": 3,
       "RANDOM_STATE": 12648430,
       "RESET_INDEX_VALUES": false,
       "ROW_SAMPLING_METHOD": "random",
       "SAMPLING_FACTOR": 0.1,
       "SAMPLING_METHOD": "random",
       "STRINGIFY_COLUMN_VALUES": true,
       "STRINGIFY_INDEX_VALUES": false
      },
      "sample_history": [],
      "sampling_time": "2023-06-13T12:14:39.125814",
      "user_variable_name": null,
      "variable_name": "unk_dataframe_5681dd47c2b54edbb5aab32239713445"
     },
     "6403a8be-a396-47cf-abb6-275089f3c400": {
      "applied_filters": [],
      "dataframe_info": {
       "default_index_used": true,
       "orig_num_cols": 11,
       "orig_num_rows": 5,
       "orig_size_bytes": 480,
       "truncated_num_cols": 11,
       "truncated_num_rows": 5,
       "truncated_size_bytes": 480,
       "truncated_string_columns": []
      },
      "display_id": "6403a8be-a396-47cf-abb6-275089f3c400",
      "dx_settings": {
       "ALLOW_NOTEABLE_ATTRS": true,
       "COLUMN_SAMPLING_METHOD": "outer",
       "DB_LOCATION": ":memory:",
       "DEV_MODE": false,
       "DISPLAY_MAX_COLUMNS": 100,
       "DISPLAY_MAX_ROWS": 50000,
       "DISPLAY_MODE": "simple",
       "ENABLE_ASSIGNMENT": true,
       "ENABLE_DATALINK": true,
       "FLATTEN_COLUMN_VALUES": true,
       "FLATTEN_INDEX_VALUES": false,
       "GENERATE_DEX_METADATA": false,
       "HTML_TABLE_SCHEMA": false,
       "LOG_LEVEL": 30,
       "MAX_RENDER_SIZE_BYTES": 104857600,
       "MAX_STRING_LENGTH": 250,
       "NUM_PAST_SAMPLES_TRACKED": 3,
       "RANDOM_STATE": 12648430,
       "RESET_INDEX_VALUES": false,
       "ROW_SAMPLING_METHOD": "random",
       "SAMPLING_FACTOR": 0.1,
       "SAMPLING_METHOD": "random",
       "STRINGIFY_COLUMN_VALUES": true,
       "STRINGIFY_INDEX_VALUES": false
      },
      "sample_history": [],
      "sampling_time": "2023-06-12T12:37:28.922939",
      "user_variable_name": null,
      "variable_name": "unk_dataframe_e1ef4e12ef1d4adf8b62632f54e6065a"
     },
     "6407487a-0ab1-4acf-9c8f-a842899371a4": {
      "applied_filters": [],
      "dataframe_info": {
       "default_index_used": true,
       "orig_num_cols": 11,
       "orig_num_rows": 5,
       "orig_size_bytes": 480,
       "truncated_num_cols": 11,
       "truncated_num_rows": 5,
       "truncated_size_bytes": 480,
       "truncated_string_columns": []
      },
      "display_id": "6407487a-0ab1-4acf-9c8f-a842899371a4",
      "dx_settings": {
       "ALLOW_NOTEABLE_ATTRS": true,
       "COLUMN_SAMPLING_METHOD": "outer",
       "DB_LOCATION": ":memory:",
       "DEV_MODE": false,
       "DISPLAY_MAX_COLUMNS": 100,
       "DISPLAY_MAX_ROWS": 50000,
       "DISPLAY_MODE": "simple",
       "ENABLE_ASSIGNMENT": true,
       "ENABLE_DATALINK": true,
       "FLATTEN_COLUMN_VALUES": true,
       "FLATTEN_INDEX_VALUES": false,
       "GENERATE_DEX_METADATA": false,
       "HTML_TABLE_SCHEMA": false,
       "LOG_LEVEL": 30,
       "MAX_RENDER_SIZE_BYTES": 104857600,
       "MAX_STRING_LENGTH": 250,
       "NUM_PAST_SAMPLES_TRACKED": 3,
       "RANDOM_STATE": 12648430,
       "RESET_INDEX_VALUES": false,
       "ROW_SAMPLING_METHOD": "random",
       "SAMPLING_FACTOR": 0.1,
       "SAMPLING_METHOD": "random",
       "STRINGIFY_COLUMN_VALUES": true,
       "STRINGIFY_INDEX_VALUES": false
      },
      "sample_history": [],
      "sampling_time": "2023-09-01T10:36:55.620104",
      "user_variable_name": null,
      "variable_name": "unk_dataframe_821b93a64b8d4c35b45d66b871a02da4"
     },
     "9fa6489f-c39b-431c-8ec8-94e1c8c0890b": {
      "applied_filters": [],
      "dataframe_info": {
       "default_index_used": true,
       "orig_num_cols": 11,
       "orig_num_rows": 5,
       "orig_size_bytes": 480,
       "truncated_num_cols": 11,
       "truncated_num_rows": 5,
       "truncated_size_bytes": 480,
       "truncated_string_columns": []
      },
      "display_id": "9fa6489f-c39b-431c-8ec8-94e1c8c0890b",
      "dx_settings": {
       "ALLOW_NOTEABLE_ATTRS": true,
       "COLUMN_SAMPLING_METHOD": "outer",
       "DB_LOCATION": ":memory:",
       "DEV_MODE": false,
       "DISPLAY_MAX_COLUMNS": 100,
       "DISPLAY_MAX_ROWS": 50000,
       "DISPLAY_MODE": "simple",
       "ENABLE_ASSIGNMENT": true,
       "ENABLE_DATALINK": true,
       "FLATTEN_COLUMN_VALUES": true,
       "FLATTEN_INDEX_VALUES": false,
       "GENERATE_DEX_METADATA": false,
       "HTML_TABLE_SCHEMA": false,
       "LOG_LEVEL": 30,
       "MAX_RENDER_SIZE_BYTES": 104857600,
       "MAX_STRING_LENGTH": 250,
       "NUM_PAST_SAMPLES_TRACKED": 3,
       "RANDOM_STATE": 12648430,
       "RESET_INDEX_VALUES": false,
       "ROW_SAMPLING_METHOD": "random",
       "SAMPLING_FACTOR": 0.1,
       "SAMPLING_METHOD": "random",
       "STRINGIFY_COLUMN_VALUES": true,
       "STRINGIFY_INDEX_VALUES": false
      },
      "sample_history": [],
      "sampling_time": "2023-09-04T12:21:59.251286",
      "user_variable_name": null,
      "variable_name": "unk_dataframe_7da30b7ee88e47808e4c767d25270ce7"
     },
     "b786db34-76d7-4caa-a0d2-964241243c58": {
      "applied_filters": [],
      "dataframe_info": {
       "default_index_used": true,
       "orig_num_cols": 11,
       "orig_num_rows": 5,
       "orig_size_bytes": 480,
       "truncated_num_cols": 11,
       "truncated_num_rows": 5,
       "truncated_size_bytes": 480,
       "truncated_string_columns": []
      },
      "display_id": "b786db34-76d7-4caa-a0d2-964241243c58",
      "dx_settings": {
       "ALLOW_NOTEABLE_ATTRS": true,
       "COLUMN_SAMPLING_METHOD": "outer",
       "DB_LOCATION": ":memory:",
       "DEV_MODE": false,
       "DISPLAY_MAX_COLUMNS": 100,
       "DISPLAY_MAX_ROWS": 50000,
       "DISPLAY_MODE": "simple",
       "ENABLE_ASSIGNMENT": true,
       "ENABLE_DATALINK": true,
       "FLATTEN_COLUMN_VALUES": true,
       "FLATTEN_INDEX_VALUES": false,
       "GENERATE_DEX_METADATA": false,
       "HTML_TABLE_SCHEMA": false,
       "LOG_LEVEL": 30,
       "MAX_RENDER_SIZE_BYTES": 104857600,
       "MAX_STRING_LENGTH": 250,
       "NUM_PAST_SAMPLES_TRACKED": 3,
       "RANDOM_STATE": 12648430,
       "RESET_INDEX_VALUES": false,
       "ROW_SAMPLING_METHOD": "random",
       "SAMPLING_FACTOR": 0.1,
       "SAMPLING_METHOD": "random",
       "STRINGIFY_COLUMN_VALUES": true,
       "STRINGIFY_INDEX_VALUES": false
      },
      "sample_history": [],
      "sampling_time": "2023-07-04T08:24:53.492536",
      "user_variable_name": null,
      "variable_name": "unk_dataframe_b52b6d1c46ed42fe8e60347a3c1d4442"
     },
     "de10a341-6d3d-4a10-b811-bc7ae7ee5f98": {
      "applied_filters": [],
      "dataframe_info": {
       "default_index_used": true,
       "orig_num_cols": 11,
       "orig_num_rows": 5,
       "orig_size_bytes": 480,
       "truncated_num_cols": 11,
       "truncated_num_rows": 5,
       "truncated_size_bytes": 480,
       "truncated_string_columns": []
      },
      "display_id": "de10a341-6d3d-4a10-b811-bc7ae7ee5f98",
      "dx_settings": {
       "ALLOW_NOTEABLE_ATTRS": true,
       "COLUMN_SAMPLING_METHOD": "outer",
       "DB_LOCATION": ":memory:",
       "DEV_MODE": false,
       "DISPLAY_MAX_COLUMNS": 100,
       "DISPLAY_MAX_ROWS": 50000,
       "DISPLAY_MODE": "simple",
       "ENABLE_ASSIGNMENT": true,
       "ENABLE_DATALINK": true,
       "FLATTEN_COLUMN_VALUES": true,
       "FLATTEN_INDEX_VALUES": false,
       "GENERATE_DEX_METADATA": false,
       "HTML_TABLE_SCHEMA": false,
       "LOG_LEVEL": 30,
       "MAX_RENDER_SIZE_BYTES": 104857600,
       "MAX_STRING_LENGTH": 250,
       "NUM_PAST_SAMPLES_TRACKED": 3,
       "RANDOM_STATE": 12648430,
       "RESET_INDEX_VALUES": false,
       "ROW_SAMPLING_METHOD": "random",
       "SAMPLING_FACTOR": 0.1,
       "SAMPLING_METHOD": "random",
       "STRINGIFY_COLUMN_VALUES": true,
       "STRINGIFY_INDEX_VALUES": false
      },
      "sample_history": [],
      "sampling_time": "2023-06-13T10:28:05.679502",
      "user_variable_name": null,
      "variable_name": "unk_dataframe_3be2acae871541cabc180f800eb536af"
     },
     "e82e3251-40f9-40a9-855f-8828b9206185": {
      "applied_filters": [],
      "dataframe_info": {
       "default_index_used": true,
       "orig_num_cols": 11,
       "orig_num_rows": 5,
       "orig_size_bytes": 480,
       "truncated_num_cols": 11,
       "truncated_num_rows": 5,
       "truncated_size_bytes": 480,
       "truncated_string_columns": []
      },
      "display_id": "e82e3251-40f9-40a9-855f-8828b9206185",
      "dx_settings": {
       "ALLOW_NOTEABLE_ATTRS": true,
       "COLUMN_SAMPLING_METHOD": "outer",
       "DB_LOCATION": ":memory:",
       "DEV_MODE": false,
       "DISPLAY_MAX_COLUMNS": 100,
       "DISPLAY_MAX_ROWS": 50000,
       "DISPLAY_MODE": "simple",
       "ENABLE_ASSIGNMENT": true,
       "ENABLE_DATALINK": true,
       "FLATTEN_COLUMN_VALUES": true,
       "FLATTEN_INDEX_VALUES": false,
       "GENERATE_DEX_METADATA": false,
       "HTML_TABLE_SCHEMA": false,
       "LOG_LEVEL": 30,
       "MAX_RENDER_SIZE_BYTES": 104857600,
       "MAX_STRING_LENGTH": 250,
       "NUM_PAST_SAMPLES_TRACKED": 3,
       "RANDOM_STATE": 12648430,
       "RESET_INDEX_VALUES": false,
       "ROW_SAMPLING_METHOD": "random",
       "SAMPLING_FACTOR": 0.1,
       "SAMPLING_METHOD": "random",
       "STRINGIFY_COLUMN_VALUES": true,
       "STRINGIFY_INDEX_VALUES": false
      },
      "sample_history": [],
      "sampling_time": "2023-09-05T08:25:26.238627",
      "user_variable_name": null,
      "variable_name": "unk_dataframe_ed47ba70d54e4a0681e8d56fa3609d91"
     },
     "ef122ffb-c280-4f25-8e50-6952b9ab2496": {
      "applied_filters": [],
      "dataframe_info": {
       "default_index_used": true,
       "orig_num_cols": 11,
       "orig_num_rows": 5,
       "orig_size_bytes": 480,
       "truncated_num_cols": 11,
       "truncated_num_rows": 5,
       "truncated_size_bytes": 480,
       "truncated_string_columns": []
      },
      "display_id": "ef122ffb-c280-4f25-8e50-6952b9ab2496",
      "dx_settings": {
       "ALLOW_NOTEABLE_ATTRS": true,
       "COLUMN_SAMPLING_METHOD": "outer",
       "DB_LOCATION": ":memory:",
       "DEV_MODE": false,
       "DISPLAY_MAX_COLUMNS": 100,
       "DISPLAY_MAX_ROWS": 50000,
       "DISPLAY_MODE": "simple",
       "ENABLE_ASSIGNMENT": true,
       "ENABLE_DATALINK": true,
       "FLATTEN_COLUMN_VALUES": true,
       "FLATTEN_INDEX_VALUES": false,
       "GENERATE_DEX_METADATA": false,
       "HTML_TABLE_SCHEMA": false,
       "LOG_LEVEL": 30,
       "MAX_RENDER_SIZE_BYTES": 104857600,
       "MAX_STRING_LENGTH": 250,
       "NUM_PAST_SAMPLES_TRACKED": 3,
       "RANDOM_STATE": 12648430,
       "RESET_INDEX_VALUES": false,
       "ROW_SAMPLING_METHOD": "random",
       "SAMPLING_FACTOR": 0.1,
       "SAMPLING_METHOD": "random",
       "STRINGIFY_COLUMN_VALUES": true,
       "STRINGIFY_INDEX_VALUES": false
      },
      "sample_history": [],
      "sampling_time": "2023-07-04T08:37:57.088441",
      "user_variable_name": null,
      "variable_name": "unk_dataframe_e15cb766c4d14725bb782edd7879f8fa"
     }
    },
    "dx": {
     "dashboard": {
      "multiViews": []
     },
     "fieldMetadata": {
      "EU_Sales": {
       "columnPosition": 9
      },
      "Genre": {
       "columnPosition": 6
      },
      "Global_Sales": {
       "columnPosition": 12,
       "sort": "desc"
      },
      "JP_Sales": {
       "columnPosition": 10
      },
      "NA_Sales": {
       "columnPosition": 8
      },
      "Name": {
       "columnPosition": 3
      },
      "Other_Sales": {
       "columnPosition": 11
      },
      "Platform": {
       "columnPosition": 4
      },
      "Publisher": {
       "columnPosition": 7
      },
      "Rank": {
       "columnPosition": 2
      },
      "Year": {
       "columnPosition": 5
      },
      "index": {
       "columnPosition": 1
      }
     },
     "updated": 1686651545108,
     "views": [
      {
       "annotationRules": [],
       "chart": {},
       "chartMode": "grid",
       "confoRules": [],
       "decoration": {
        "footer": "",
        "subtitle": "",
        "title": "Table"
       },
       "facets": [],
       "filterSettings": {
        "SHOW_FILTER_PANEL": true,
        "filters": []
       },
       "id": "first-view",
       "isDefault": true,
       "type": "public",
       "userID": ""
      },
      {
       "annotationRules": [],
       "chart": {},
       "chartMode": "grid",
       "confoRules": [],
       "decoration": {
        "footer": "",
        "subtitle": "",
        "title": "Table"
       },
       "facets": [],
       "filterSettings": {
        "SHOW_FILTER_PANEL": true,
        "filters": []
       },
       "id": "first-view",
       "isDefault": true,
       "isTransitory": true,
       "type": "public",
       "userID": ""
      }
     ]
    },
    "noteable": {
     "cell_type": "code",
     "output_collection_id": "7ee6f814-4e2b-4296-a5c8-3c70630085da"
    }
   },
   "outputs": [
    {
     "data": {
      "text/html": [
       "<div>\n",
       "<style scoped>\n",
       "    .dataframe tbody tr th:only-of-type {\n",
       "        vertical-align: middle;\n",
       "    }\n",
       "\n",
       "    .dataframe tbody tr th {\n",
       "        vertical-align: top;\n",
       "    }\n",
       "\n",
       "    .dataframe thead th {\n",
       "        text-align: right;\n",
       "    }\n",
       "</style>\n",
       "<table border=\"1\" class=\"dataframe\">\n",
       "  <thead>\n",
       "    <tr style=\"text-align: right;\">\n",
       "      <th></th>\n",
       "      <th>Rank</th>\n",
       "      <th>Name</th>\n",
       "      <th>Platform</th>\n",
       "      <th>Year</th>\n",
       "      <th>Genre</th>\n",
       "      <th>Publisher</th>\n",
       "      <th>NA_Sales</th>\n",
       "      <th>EU_Sales</th>\n",
       "      <th>JP_Sales</th>\n",
       "      <th>Other_Sales</th>\n",
       "      <th>Global_Sales</th>\n",
       "    </tr>\n",
       "  </thead>\n",
       "  <tbody>\n",
       "    <tr>\n",
       "      <th>0</th>\n",
       "      <td>1</td>\n",
       "      <td>Wii Sports</td>\n",
       "      <td>Wii</td>\n",
       "      <td>2006.0</td>\n",
       "      <td>Sports</td>\n",
       "      <td>Nintendo</td>\n",
       "      <td>41.49</td>\n",
       "      <td>29.02</td>\n",
       "      <td>3.77</td>\n",
       "      <td>8.46</td>\n",
       "      <td>82.74</td>\n",
       "    </tr>\n",
       "    <tr>\n",
       "      <th>1</th>\n",
       "      <td>2</td>\n",
       "      <td>Super Mario Bros.</td>\n",
       "      <td>NES</td>\n",
       "      <td>1985.0</td>\n",
       "      <td>Platform</td>\n",
       "      <td>Nintendo</td>\n",
       "      <td>29.08</td>\n",
       "      <td>3.58</td>\n",
       "      <td>6.81</td>\n",
       "      <td>0.77</td>\n",
       "      <td>40.24</td>\n",
       "    </tr>\n",
       "    <tr>\n",
       "      <th>2</th>\n",
       "      <td>3</td>\n",
       "      <td>Mario Kart Wii</td>\n",
       "      <td>Wii</td>\n",
       "      <td>2008.0</td>\n",
       "      <td>Racing</td>\n",
       "      <td>Nintendo</td>\n",
       "      <td>15.85</td>\n",
       "      <td>12.88</td>\n",
       "      <td>3.79</td>\n",
       "      <td>3.31</td>\n",
       "      <td>35.82</td>\n",
       "    </tr>\n",
       "    <tr>\n",
       "      <th>3</th>\n",
       "      <td>4</td>\n",
       "      <td>Wii Sports Resort</td>\n",
       "      <td>Wii</td>\n",
       "      <td>2009.0</td>\n",
       "      <td>Sports</td>\n",
       "      <td>Nintendo</td>\n",
       "      <td>15.75</td>\n",
       "      <td>11.01</td>\n",
       "      <td>3.28</td>\n",
       "      <td>2.96</td>\n",
       "      <td>33.00</td>\n",
       "    </tr>\n",
       "    <tr>\n",
       "      <th>4</th>\n",
       "      <td>5</td>\n",
       "      <td>Pokemon Red/Pokemon Blue</td>\n",
       "      <td>GB</td>\n",
       "      <td>1996.0</td>\n",
       "      <td>Role-Playing</td>\n",
       "      <td>Nintendo</td>\n",
       "      <td>11.27</td>\n",
       "      <td>8.89</td>\n",
       "      <td>10.22</td>\n",
       "      <td>1.00</td>\n",
       "      <td>31.37</td>\n",
       "    </tr>\n",
       "  </tbody>\n",
       "</table>\n",
       "</div>"
      ],
      "text/plain": [
       "   Rank                      Name Platform    Year         Genre Publisher  \\\n",
       "0     1                Wii Sports      Wii  2006.0        Sports  Nintendo   \n",
       "1     2         Super Mario Bros.      NES  1985.0      Platform  Nintendo   \n",
       "2     3            Mario Kart Wii      Wii  2008.0        Racing  Nintendo   \n",
       "3     4         Wii Sports Resort      Wii  2009.0        Sports  Nintendo   \n",
       "4     5  Pokemon Red/Pokemon Blue       GB  1996.0  Role-Playing  Nintendo   \n",
       "\n",
       "   NA_Sales  EU_Sales  JP_Sales  Other_Sales  Global_Sales  \n",
       "0     41.49     29.02      3.77         8.46         82.74  \n",
       "1     29.08      3.58      6.81         0.77         40.24  \n",
       "2     15.85     12.88      3.79         3.31         35.82  \n",
       "3     15.75     11.01      3.28         2.96         33.00  \n",
       "4     11.27      8.89     10.22         1.00         31.37  "
      ]
     },
     "execution_count": 4,
     "metadata": {},
     "output_type": "execute_result"
    }
   ],
   "source": [
    "# Display the first few rows of the dataset\n",
    "data.head()"
   ]
  },
  {
   "cell_type": "code",
   "execution_count": 5,
   "id": "02c3af84-d0df-44d6-ac6c-642e37d4ebc2",
   "metadata": {
    "ExecuteTime": {
     "end_time": "2023-09-05T08:25:28.310670+00:00",
     "start_time": "2023-09-05T08:25:28.153478+00:00"
    },
    "noteable": {
     "cell_type": "code",
     "output_collection_id": "0b3c7c8d-780b-491d-a5af-2efc6812a5b9"
    }
   },
   "outputs": [],
   "source": [
    "# Deleting some incomplete data \n",
    "drop_row_index = data[data['Year'] > 2015].index\n",
    "data = data.drop(drop_row_index)"
   ]
  },
  {
   "cell_type": "code",
   "execution_count": 6,
   "id": "d658d9a3-7da7-4118-b18c-d6645ab326ea",
   "metadata": {
    "ExecuteTime": {
     "end_time": "2023-09-05T08:25:29.480704+00:00",
     "start_time": "2023-09-05T08:25:29.323395+00:00"
    },
    "datalink": {
     "39391400-41f0-4c2a-b0ef-b018ba2e6d73": {
      "applied_filters": [],
      "dataframe_info": {
       "default_index_used": false,
       "orig_num_cols": 1,
       "orig_num_rows": 11,
       "orig_size_bytes": 176,
       "truncated_num_cols": 1,
       "truncated_num_rows": 11,
       "truncated_size_bytes": 176,
       "truncated_string_columns": []
      },
      "display_id": "39391400-41f0-4c2a-b0ef-b018ba2e6d73",
      "dx_settings": {
       "ALLOW_NOTEABLE_ATTRS": true,
       "COLUMN_SAMPLING_METHOD": "outer",
       "DB_LOCATION": ":memory:",
       "DEV_MODE": false,
       "DISPLAY_MAX_COLUMNS": 100,
       "DISPLAY_MAX_ROWS": 50000,
       "DISPLAY_MODE": "simple",
       "ENABLE_ASSIGNMENT": true,
       "ENABLE_DATALINK": true,
       "FLATTEN_COLUMN_VALUES": true,
       "FLATTEN_INDEX_VALUES": false,
       "GENERATE_DEX_METADATA": false,
       "HTML_TABLE_SCHEMA": false,
       "LOG_LEVEL": 30,
       "MAX_RENDER_SIZE_BYTES": 104857600,
       "MAX_STRING_LENGTH": 250,
       "NUM_PAST_SAMPLES_TRACKED": 3,
       "RANDOM_STATE": 12648430,
       "RESET_INDEX_VALUES": false,
       "ROW_SAMPLING_METHOD": "random",
       "SAMPLING_FACTOR": 0.1,
       "SAMPLING_METHOD": "random",
       "STRINGIFY_COLUMN_VALUES": true,
       "STRINGIFY_INDEX_VALUES": false
      },
      "sample_history": [],
      "sampling_time": "2023-06-13T11:54:02.971292",
      "user_variable_name": null,
      "variable_name": "unk_dataframe_faf30b4894784789bdf0ad75b1f75584"
     },
     "572e6190-f270-47ab-88da-959f30a6b10e": {
      "applied_filters": [],
      "dataframe_info": {
       "default_index_used": false,
       "orig_num_cols": 1,
       "orig_num_rows": 11,
       "orig_size_bytes": 176,
       "truncated_num_cols": 1,
       "truncated_num_rows": 11,
       "truncated_size_bytes": 176,
       "truncated_string_columns": []
      },
      "display_id": "572e6190-f270-47ab-88da-959f30a6b10e",
      "dx_settings": {
       "ALLOW_NOTEABLE_ATTRS": true,
       "COLUMN_SAMPLING_METHOD": "outer",
       "DB_LOCATION": ":memory:",
       "DEV_MODE": false,
       "DISPLAY_MAX_COLUMNS": 100,
       "DISPLAY_MAX_ROWS": 50000,
       "DISPLAY_MODE": "simple",
       "ENABLE_ASSIGNMENT": true,
       "ENABLE_DATALINK": true,
       "FLATTEN_COLUMN_VALUES": true,
       "FLATTEN_INDEX_VALUES": false,
       "GENERATE_DEX_METADATA": false,
       "HTML_TABLE_SCHEMA": false,
       "LOG_LEVEL": 30,
       "MAX_RENDER_SIZE_BYTES": 104857600,
       "MAX_STRING_LENGTH": 250,
       "NUM_PAST_SAMPLES_TRACKED": 3,
       "RANDOM_STATE": 12648430,
       "RESET_INDEX_VALUES": false,
       "ROW_SAMPLING_METHOD": "random",
       "SAMPLING_FACTOR": 0.1,
       "SAMPLING_METHOD": "random",
       "STRINGIFY_COLUMN_VALUES": true,
       "STRINGIFY_INDEX_VALUES": false
      },
      "sample_history": [],
      "sampling_time": "2023-06-13T10:28:13.053512",
      "user_variable_name": null,
      "variable_name": "unk_dataframe_9b62a949116e4d93bfa3949a1e745a9b"
     },
     "ac430a42-da36-42b5-8f8a-44284823131f": {
      "applied_filters": [],
      "dataframe_info": {
       "default_index_used": false,
       "orig_num_cols": 1,
       "orig_num_rows": 11,
       "orig_size_bytes": 176,
       "truncated_num_cols": 1,
       "truncated_num_rows": 11,
       "truncated_size_bytes": 176,
       "truncated_string_columns": []
      },
      "display_id": "ac430a42-da36-42b5-8f8a-44284823131f",
      "dx_settings": {
       "ALLOW_NOTEABLE_ATTRS": true,
       "COLUMN_SAMPLING_METHOD": "outer",
       "DB_LOCATION": ":memory:",
       "DEV_MODE": false,
       "DISPLAY_MAX_COLUMNS": 100,
       "DISPLAY_MAX_ROWS": 50000,
       "DISPLAY_MODE": "simple",
       "ENABLE_ASSIGNMENT": true,
       "ENABLE_DATALINK": true,
       "FLATTEN_COLUMN_VALUES": true,
       "FLATTEN_INDEX_VALUES": false,
       "GENERATE_DEX_METADATA": false,
       "HTML_TABLE_SCHEMA": false,
       "LOG_LEVEL": 30,
       "MAX_RENDER_SIZE_BYTES": 104857600,
       "MAX_STRING_LENGTH": 250,
       "NUM_PAST_SAMPLES_TRACKED": 3,
       "RANDOM_STATE": 12648430,
       "RESET_INDEX_VALUES": false,
       "ROW_SAMPLING_METHOD": "random",
       "SAMPLING_FACTOR": 0.1,
       "SAMPLING_METHOD": "random",
       "STRINGIFY_COLUMN_VALUES": true,
       "STRINGIFY_INDEX_VALUES": false
      },
      "sample_history": [],
      "sampling_time": "2023-06-13T12:14:47.555612",
      "user_variable_name": null,
      "variable_name": "unk_dataframe_8dc17ec01fed408b836029c290ac0c38"
     },
     "cc2e88b0-4937-4580-886d-8d5333af3fcc": {
      "applied_filters": [],
      "dataframe_info": {
       "default_index_used": false,
       "orig_num_cols": 1,
       "orig_num_rows": 11,
       "orig_size_bytes": 176,
       "truncated_num_cols": 1,
       "truncated_num_rows": 11,
       "truncated_size_bytes": 176,
       "truncated_string_columns": []
      },
      "display_id": "cc2e88b0-4937-4580-886d-8d5333af3fcc",
      "dx_settings": {
       "ALLOW_NOTEABLE_ATTRS": true,
       "COLUMN_SAMPLING_METHOD": "outer",
       "DB_LOCATION": ":memory:",
       "DEV_MODE": false,
       "DISPLAY_MAX_COLUMNS": 100,
       "DISPLAY_MAX_ROWS": 50000,
       "DISPLAY_MODE": "simple",
       "ENABLE_ASSIGNMENT": true,
       "ENABLE_DATALINK": true,
       "FLATTEN_COLUMN_VALUES": true,
       "FLATTEN_INDEX_VALUES": false,
       "GENERATE_DEX_METADATA": false,
       "HTML_TABLE_SCHEMA": false,
       "LOG_LEVEL": 30,
       "MAX_RENDER_SIZE_BYTES": 104857600,
       "MAX_STRING_LENGTH": 250,
       "NUM_PAST_SAMPLES_TRACKED": 3,
       "RANDOM_STATE": 12648430,
       "RESET_INDEX_VALUES": false,
       "ROW_SAMPLING_METHOD": "random",
       "SAMPLING_FACTOR": 0.1,
       "SAMPLING_METHOD": "random",
       "STRINGIFY_COLUMN_VALUES": true,
       "STRINGIFY_INDEX_VALUES": false
      },
      "sample_history": [],
      "sampling_time": "2023-07-04T08:28:20.493448",
      "user_variable_name": null,
      "variable_name": "unk_dataframe_48852016cf6340cea3063e2ee83f7b57"
     },
     "cffac59d-91c7-4774-8df5-c4eec0bcde40": {
      "applied_filters": [],
      "dataframe_info": {
       "default_index_used": false,
       "orig_num_cols": 1,
       "orig_num_rows": 11,
       "orig_size_bytes": 176,
       "truncated_num_cols": 1,
       "truncated_num_rows": 11,
       "truncated_size_bytes": 176,
       "truncated_string_columns": []
      },
      "display_id": "cffac59d-91c7-4774-8df5-c4eec0bcde40",
      "dx_settings": {
       "ALLOW_NOTEABLE_ATTRS": true,
       "COLUMN_SAMPLING_METHOD": "outer",
       "DB_LOCATION": ":memory:",
       "DEV_MODE": false,
       "DISPLAY_MAX_COLUMNS": 100,
       "DISPLAY_MAX_ROWS": 50000,
       "DISPLAY_MODE": "simple",
       "ENABLE_ASSIGNMENT": true,
       "ENABLE_DATALINK": true,
       "FLATTEN_COLUMN_VALUES": true,
       "FLATTEN_INDEX_VALUES": false,
       "GENERATE_DEX_METADATA": false,
       "HTML_TABLE_SCHEMA": false,
       "LOG_LEVEL": 30,
       "MAX_RENDER_SIZE_BYTES": 104857600,
       "MAX_STRING_LENGTH": 250,
       "NUM_PAST_SAMPLES_TRACKED": 3,
       "RANDOM_STATE": 12648430,
       "RESET_INDEX_VALUES": false,
       "ROW_SAMPLING_METHOD": "random",
       "SAMPLING_FACTOR": 0.1,
       "SAMPLING_METHOD": "random",
       "STRINGIFY_COLUMN_VALUES": true,
       "STRINGIFY_INDEX_VALUES": false
      },
      "sample_history": [],
      "sampling_time": "2023-07-04T08:38:09.702455",
      "user_variable_name": null,
      "variable_name": "unk_dataframe_c2ad3075b581466c9137fd1b022e9e64"
     },
     "f88acc6a-948f-4b07-978f-2103feac52fd": {
      "applied_filters": [],
      "dataframe_info": {
       "default_index_used": false,
       "orig_num_cols": 1,
       "orig_num_rows": 11,
       "orig_size_bytes": 176,
       "truncated_num_cols": 1,
       "truncated_num_rows": 11,
       "truncated_size_bytes": 176,
       "truncated_string_columns": []
      },
      "display_id": "f88acc6a-948f-4b07-978f-2103feac52fd",
      "dx_settings": {
       "ALLOW_NOTEABLE_ATTRS": true,
       "COLUMN_SAMPLING_METHOD": "outer",
       "DB_LOCATION": ":memory:",
       "DEV_MODE": false,
       "DISPLAY_MAX_COLUMNS": 100,
       "DISPLAY_MAX_ROWS": 50000,
       "DISPLAY_MODE": "simple",
       "ENABLE_ASSIGNMENT": true,
       "ENABLE_DATALINK": true,
       "FLATTEN_COLUMN_VALUES": true,
       "FLATTEN_INDEX_VALUES": false,
       "GENERATE_DEX_METADATA": false,
       "HTML_TABLE_SCHEMA": false,
       "LOG_LEVEL": 30,
       "MAX_RENDER_SIZE_BYTES": 104857600,
       "MAX_STRING_LENGTH": 250,
       "NUM_PAST_SAMPLES_TRACKED": 3,
       "RANDOM_STATE": 12648430,
       "RESET_INDEX_VALUES": false,
       "ROW_SAMPLING_METHOD": "random",
       "SAMPLING_FACTOR": 0.1,
       "SAMPLING_METHOD": "random",
       "STRINGIFY_COLUMN_VALUES": true,
       "STRINGIFY_INDEX_VALUES": false
      },
      "sample_history": [],
      "sampling_time": "2023-06-12T12:38:02.307653",
      "user_variable_name": null,
      "variable_name": "unk_dataframe_419b8c26bb334dd38ccab6349565a60e"
     }
    },
    "noteable": {
     "cell_type": "code",
     "output_collection_id": "ae7325b2-81bf-4c87-b930-4eaa3513134b"
    }
   },
   "outputs": [
    {
     "data": {
      "text/plain": [
       "(16250, 11)"
      ]
     },
     "execution_count": 6,
     "metadata": {},
     "output_type": "execute_result"
    }
   ],
   "source": [
    "# Check the shape of this dataset \n",
    "data.shape"
   ]
  },
  {
   "cell_type": "code",
   "execution_count": 7,
   "id": "74522350-219d-4d7e-9aa7-764932a55f88",
   "metadata": {
    "ExecuteTime": {
     "end_time": "2023-09-05T08:25:31.556212+00:00",
     "start_time": "2023-09-05T08:25:31.384997+00:00"
    },
    "datalink": {
     "38d209be-de7d-4ead-b507-8b3117f6c055": {
      "applied_filters": [],
      "dataframe_info": {
       "default_index_used": false,
       "orig_num_cols": 1,
       "orig_num_rows": 11,
       "orig_size_bytes": 176,
       "truncated_num_cols": 1,
       "truncated_num_rows": 11,
       "truncated_size_bytes": 176,
       "truncated_string_columns": []
      },
      "display_id": "38d209be-de7d-4ead-b507-8b3117f6c055",
      "dx_settings": {
       "ALLOW_NOTEABLE_ATTRS": true,
       "COLUMN_SAMPLING_METHOD": "outer",
       "DB_LOCATION": ":memory:",
       "DEV_MODE": false,
       "DISPLAY_MAX_COLUMNS": 100,
       "DISPLAY_MAX_ROWS": 50000,
       "DISPLAY_MODE": "simple",
       "ENABLE_ASSIGNMENT": true,
       "ENABLE_DATALINK": true,
       "FLATTEN_COLUMN_VALUES": true,
       "FLATTEN_INDEX_VALUES": false,
       "GENERATE_DEX_METADATA": false,
       "HTML_TABLE_SCHEMA": false,
       "LOG_LEVEL": 30,
       "MAX_RENDER_SIZE_BYTES": 104857600,
       "MAX_STRING_LENGTH": 250,
       "NUM_PAST_SAMPLES_TRACKED": 3,
       "RANDOM_STATE": 12648430,
       "RESET_INDEX_VALUES": false,
       "ROW_SAMPLING_METHOD": "random",
       "SAMPLING_FACTOR": 0.1,
       "SAMPLING_METHOD": "random",
       "STRINGIFY_COLUMN_VALUES": true,
       "STRINGIFY_INDEX_VALUES": false
      },
      "sample_history": [],
      "sampling_time": "2023-06-13T12:14:55.558731",
      "user_variable_name": null,
      "variable_name": "unk_dataframe_b67563a8fbfa426bb8b935b919e5012a"
     },
     "74ade125-62fc-431d-a7ab-6084d09d4b1a": {
      "applied_filters": [],
      "dataframe_info": {
       "default_index_used": false,
       "orig_num_cols": 1,
       "orig_num_rows": 11,
       "orig_size_bytes": 176,
       "truncated_num_cols": 1,
       "truncated_num_rows": 11,
       "truncated_size_bytes": 176,
       "truncated_string_columns": []
      },
      "display_id": "74ade125-62fc-431d-a7ab-6084d09d4b1a",
      "dx_settings": {
       "ALLOW_NOTEABLE_ATTRS": true,
       "COLUMN_SAMPLING_METHOD": "outer",
       "DB_LOCATION": ":memory:",
       "DEV_MODE": false,
       "DISPLAY_MAX_COLUMNS": 100,
       "DISPLAY_MAX_ROWS": 50000,
       "DISPLAY_MODE": "simple",
       "ENABLE_ASSIGNMENT": true,
       "ENABLE_DATALINK": true,
       "FLATTEN_COLUMN_VALUES": true,
       "FLATTEN_INDEX_VALUES": false,
       "GENERATE_DEX_METADATA": false,
       "HTML_TABLE_SCHEMA": false,
       "LOG_LEVEL": 30,
       "MAX_RENDER_SIZE_BYTES": 104857600,
       "MAX_STRING_LENGTH": 250,
       "NUM_PAST_SAMPLES_TRACKED": 3,
       "RANDOM_STATE": 12648430,
       "RESET_INDEX_VALUES": false,
       "ROW_SAMPLING_METHOD": "random",
       "SAMPLING_FACTOR": 0.1,
       "SAMPLING_METHOD": "random",
       "STRINGIFY_COLUMN_VALUES": true,
       "STRINGIFY_INDEX_VALUES": false
      },
      "sample_history": [],
      "sampling_time": "2023-06-13T10:28:17.652929",
      "user_variable_name": null,
      "variable_name": "unk_dataframe_0106ae44abeb4ca79a921d6d4bc7f167"
     },
     "81f19a6b-7e0e-4320-b42f-95b50a7eb623": {
      "applied_filters": [],
      "dataframe_info": {
       "default_index_used": false,
       "orig_num_cols": 1,
       "orig_num_rows": 11,
       "orig_size_bytes": 176,
       "truncated_num_cols": 1,
       "truncated_num_rows": 11,
       "truncated_size_bytes": 176,
       "truncated_string_columns": []
      },
      "display_id": "81f19a6b-7e0e-4320-b42f-95b50a7eb623",
      "dx_settings": {
       "ALLOW_NOTEABLE_ATTRS": true,
       "COLUMN_SAMPLING_METHOD": "outer",
       "DB_LOCATION": ":memory:",
       "DEV_MODE": false,
       "DISPLAY_MAX_COLUMNS": 100,
       "DISPLAY_MAX_ROWS": 50000,
       "DISPLAY_MODE": "simple",
       "ENABLE_ASSIGNMENT": true,
       "ENABLE_DATALINK": true,
       "FLATTEN_COLUMN_VALUES": true,
       "FLATTEN_INDEX_VALUES": false,
       "GENERATE_DEX_METADATA": false,
       "HTML_TABLE_SCHEMA": false,
       "LOG_LEVEL": 30,
       "MAX_RENDER_SIZE_BYTES": 104857600,
       "MAX_STRING_LENGTH": 250,
       "NUM_PAST_SAMPLES_TRACKED": 3,
       "RANDOM_STATE": 12648430,
       "RESET_INDEX_VALUES": false,
       "ROW_SAMPLING_METHOD": "random",
       "SAMPLING_FACTOR": 0.1,
       "SAMPLING_METHOD": "random",
       "STRINGIFY_COLUMN_VALUES": true,
       "STRINGIFY_INDEX_VALUES": false
      },
      "sample_history": [],
      "sampling_time": "2023-06-12T12:38:22.419032",
      "user_variable_name": null,
      "variable_name": "unk_dataframe_f557d8411f334da7965c8bc4f6335263"
     },
     "cf055435-6007-4c09-b313-96d16885edd6": {
      "applied_filters": [],
      "dataframe_info": {
       "default_index_used": false,
       "orig_num_cols": 1,
       "orig_num_rows": 11,
       "orig_size_bytes": 176,
       "truncated_num_cols": 1,
       "truncated_num_rows": 11,
       "truncated_size_bytes": 176,
       "truncated_string_columns": []
      },
      "display_id": "cf055435-6007-4c09-b313-96d16885edd6",
      "dx_settings": {
       "ALLOW_NOTEABLE_ATTRS": true,
       "COLUMN_SAMPLING_METHOD": "outer",
       "DB_LOCATION": ":memory:",
       "DEV_MODE": false,
       "DISPLAY_MAX_COLUMNS": 100,
       "DISPLAY_MAX_ROWS": 50000,
       "DISPLAY_MODE": "simple",
       "ENABLE_ASSIGNMENT": true,
       "ENABLE_DATALINK": true,
       "FLATTEN_COLUMN_VALUES": true,
       "FLATTEN_INDEX_VALUES": false,
       "GENERATE_DEX_METADATA": false,
       "HTML_TABLE_SCHEMA": false,
       "LOG_LEVEL": 30,
       "MAX_RENDER_SIZE_BYTES": 104857600,
       "MAX_STRING_LENGTH": 250,
       "NUM_PAST_SAMPLES_TRACKED": 3,
       "RANDOM_STATE": 12648430,
       "RESET_INDEX_VALUES": false,
       "ROW_SAMPLING_METHOD": "random",
       "SAMPLING_FACTOR": 0.1,
       "SAMPLING_METHOD": "random",
       "STRINGIFY_COLUMN_VALUES": true,
       "STRINGIFY_INDEX_VALUES": false
      },
      "sample_history": [],
      "sampling_time": "2023-07-04T08:28:23.605773",
      "user_variable_name": null,
      "variable_name": "unk_dataframe_28b892cdca1b403a95ff209d64d19b03"
     },
     "f489dda0-fba8-479e-b791-0da618efefcc": {
      "applied_filters": [],
      "dataframe_info": {
       "default_index_used": false,
       "orig_num_cols": 1,
       "orig_num_rows": 11,
       "orig_size_bytes": 176,
       "truncated_num_cols": 1,
       "truncated_num_rows": 11,
       "truncated_size_bytes": 176,
       "truncated_string_columns": []
      },
      "display_id": "f489dda0-fba8-479e-b791-0da618efefcc",
      "dx_settings": {
       "ALLOW_NOTEABLE_ATTRS": true,
       "COLUMN_SAMPLING_METHOD": "outer",
       "DB_LOCATION": ":memory:",
       "DEV_MODE": false,
       "DISPLAY_MAX_COLUMNS": 100,
       "DISPLAY_MAX_ROWS": 50000,
       "DISPLAY_MODE": "simple",
       "ENABLE_ASSIGNMENT": true,
       "ENABLE_DATALINK": true,
       "FLATTEN_COLUMN_VALUES": true,
       "FLATTEN_INDEX_VALUES": false,
       "GENERATE_DEX_METADATA": false,
       "HTML_TABLE_SCHEMA": false,
       "LOG_LEVEL": 30,
       "MAX_RENDER_SIZE_BYTES": 104857600,
       "MAX_STRING_LENGTH": 250,
       "NUM_PAST_SAMPLES_TRACKED": 3,
       "RANDOM_STATE": 12648430,
       "RESET_INDEX_VALUES": false,
       "ROW_SAMPLING_METHOD": "random",
       "SAMPLING_FACTOR": 0.1,
       "SAMPLING_METHOD": "random",
       "STRINGIFY_COLUMN_VALUES": true,
       "STRINGIFY_INDEX_VALUES": false
      },
      "sample_history": [],
      "sampling_time": "2023-06-13T11:54:06.565766",
      "user_variable_name": null,
      "variable_name": "unk_dataframe_6ddb8ed4ca7f40cd8af2cb94890ab162"
     }
    },
    "noteable": {
     "cell_type": "code",
     "output_collection_id": "d2a0c4ca-0c40-466e-b644-4bf1e2690c69"
    }
   },
   "outputs": [
    {
     "name": "stdout",
     "output_type": "stream",
     "text": [
      "<class 'pandas.core.frame.DataFrame'>\n",
      "Int64Index: 16250 entries, 0 to 16597\n",
      "Data columns (total 11 columns):\n",
      " #   Column        Non-Null Count  Dtype  \n",
      "---  ------        --------------  -----  \n",
      " 0   Rank          16250 non-null  int64  \n",
      " 1   Name          16250 non-null  object \n",
      " 2   Platform      16250 non-null  object \n",
      " 3   Year          15979 non-null  float64\n",
      " 4   Genre         16250 non-null  object \n",
      " 5   Publisher     16194 non-null  object \n",
      " 6   NA_Sales      16250 non-null  float64\n",
      " 7   EU_Sales      16250 non-null  float64\n",
      " 8   JP_Sales      16250 non-null  float64\n",
      " 9   Other_Sales   16250 non-null  float64\n",
      " 10  Global_Sales  16250 non-null  float64\n",
      "dtypes: float64(6), int64(1), object(4)\n",
      "memory usage: 1.5+ MB\n"
     ]
    }
   ],
   "source": [
    "# Investigate more info \n",
    "data.info()"
   ]
  },
  {
   "cell_type": "markdown",
   "id": "5589f2a2-f079-482a-b2eb-6cf492be6f81",
   "metadata": {
    "noteable": {
     "cell_type": "markdown"
    }
   },
   "source": [
    "Rank - Ranking of overall sales, integer\n",
    "\n",
    "Name - The games name\n",
    "\n",
    "Platform - Platform of the games release (i.e. PC,PS4, etc.), object\n",
    "\n",
    "Year - Year of the game's release, float\n",
    "\n",
    "Genre - Genre of the game ,object\n",
    "\n",
    "Publisher - Publisher of the game, object\n",
    "\n",
    "NA_Sales - Sales in North America (in millions), float\n",
    "\n",
    "EU_Sales - Sales in Europe (in millions), float\n",
    "\n",
    "JP_Sales - Sales in Japan (in millions), float\n",
    "\n",
    "Other_Sales - Sales in the rest of the world (in millions), float\n",
    "\n",
    "Global_Sales - Total worldwide sales, float"
   ]
  },
  {
   "cell_type": "markdown",
   "id": "8d685170-6dcf-4226-8d1a-547c803a5b7f",
   "metadata": {
    "noteable": {
     "cell_type": "markdown"
    }
   },
   "source": [
    "### 3.2 Handling Missing Data"
   ]
  },
  {
   "cell_type": "code",
   "execution_count": 8,
   "id": "ce5fca2b-6246-4817-8427-a17b6e21d44b",
   "metadata": {
    "ExecuteTime": {
     "end_time": "2023-09-05T08:25:34.044664+00:00",
     "start_time": "2023-09-05T08:25:33.797163+00:00"
    },
    "datalink": {
     "3a0dd4d1-2a3b-4fae-b8ee-e8a1a7fe102c": {
      "applied_filters": [],
      "dataframe_info": {
       "default_index_used": false,
       "orig_num_cols": 1,
       "orig_num_rows": 11,
       "orig_size_bytes": 176,
       "truncated_num_cols": 1,
       "truncated_num_rows": 11,
       "truncated_size_bytes": 176,
       "truncated_string_columns": []
      },
      "display_id": "3a0dd4d1-2a3b-4fae-b8ee-e8a1a7fe102c",
      "dx_settings": {
       "ALLOW_NOTEABLE_ATTRS": true,
       "COLUMN_SAMPLING_METHOD": "outer",
       "DB_LOCATION": ":memory:",
       "DEV_MODE": false,
       "DISPLAY_MAX_COLUMNS": 100,
       "DISPLAY_MAX_ROWS": 50000,
       "DISPLAY_MODE": "simple",
       "ENABLE_ASSIGNMENT": true,
       "ENABLE_DATALINK": true,
       "FLATTEN_COLUMN_VALUES": true,
       "FLATTEN_INDEX_VALUES": false,
       "GENERATE_DEX_METADATA": false,
       "HTML_TABLE_SCHEMA": false,
       "LOG_LEVEL": 30,
       "MAX_RENDER_SIZE_BYTES": 104857600,
       "MAX_STRING_LENGTH": 250,
       "NUM_PAST_SAMPLES_TRACKED": 3,
       "RANDOM_STATE": 12648430,
       "RESET_INDEX_VALUES": false,
       "ROW_SAMPLING_METHOD": "random",
       "SAMPLING_FACTOR": 0.1,
       "SAMPLING_METHOD": "random",
       "STRINGIFY_COLUMN_VALUES": true,
       "STRINGIFY_INDEX_VALUES": false
      },
      "sample_history": [],
      "sampling_time": "2023-09-01T10:50:37.737171",
      "user_variable_name": null,
      "variable_name": "unk_dataframe_9024e436866f4a3f8254d4dfb8f18b5e"
     },
     "57302787-7842-49d8-8756-168997a99d0e": {
      "applied_filters": [],
      "dataframe_info": {
       "default_index_used": false,
       "orig_num_cols": 1,
       "orig_num_rows": 11,
       "orig_size_bytes": 176,
       "truncated_num_cols": 1,
       "truncated_num_rows": 11,
       "truncated_size_bytes": 176,
       "truncated_string_columns": []
      },
      "display_id": "57302787-7842-49d8-8756-168997a99d0e",
      "dx_settings": {
       "ALLOW_NOTEABLE_ATTRS": true,
       "COLUMN_SAMPLING_METHOD": "outer",
       "DB_LOCATION": ":memory:",
       "DEV_MODE": false,
       "DISPLAY_MAX_COLUMNS": 100,
       "DISPLAY_MAX_ROWS": 50000,
       "DISPLAY_MODE": "simple",
       "ENABLE_ASSIGNMENT": true,
       "ENABLE_DATALINK": true,
       "FLATTEN_COLUMN_VALUES": true,
       "FLATTEN_INDEX_VALUES": false,
       "GENERATE_DEX_METADATA": false,
       "HTML_TABLE_SCHEMA": false,
       "LOG_LEVEL": 30,
       "MAX_RENDER_SIZE_BYTES": 104857600,
       "MAX_STRING_LENGTH": 250,
       "NUM_PAST_SAMPLES_TRACKED": 3,
       "RANDOM_STATE": 12648430,
       "RESET_INDEX_VALUES": false,
       "ROW_SAMPLING_METHOD": "random",
       "SAMPLING_FACTOR": 0.1,
       "SAMPLING_METHOD": "random",
       "STRINGIFY_COLUMN_VALUES": true,
       "STRINGIFY_INDEX_VALUES": false
      },
      "sample_history": [],
      "sampling_time": "2023-09-04T10:13:25.188744",
      "user_variable_name": null,
      "variable_name": "unk_dataframe_e125502b5b0348f0a4a22062a02357bb"
     },
     "67ea4ede-c118-4c85-9d73-5400dc20d2cb": {
      "applied_filters": [],
      "dataframe_info": {
       "default_index_used": false,
       "orig_num_cols": 1,
       "orig_num_rows": 11,
       "orig_size_bytes": 176,
       "truncated_num_cols": 1,
       "truncated_num_rows": 11,
       "truncated_size_bytes": 176,
       "truncated_string_columns": []
      },
      "display_id": "67ea4ede-c118-4c85-9d73-5400dc20d2cb",
      "dx_settings": {
       "ALLOW_NOTEABLE_ATTRS": true,
       "COLUMN_SAMPLING_METHOD": "outer",
       "DB_LOCATION": ":memory:",
       "DEV_MODE": false,
       "DISPLAY_MAX_COLUMNS": 100,
       "DISPLAY_MAX_ROWS": 50000,
       "DISPLAY_MODE": "simple",
       "ENABLE_ASSIGNMENT": true,
       "ENABLE_DATALINK": true,
       "FLATTEN_COLUMN_VALUES": true,
       "FLATTEN_INDEX_VALUES": false,
       "GENERATE_DEX_METADATA": false,
       "HTML_TABLE_SCHEMA": false,
       "LOG_LEVEL": 30,
       "MAX_RENDER_SIZE_BYTES": 104857600,
       "MAX_STRING_LENGTH": 250,
       "NUM_PAST_SAMPLES_TRACKED": 3,
       "RANDOM_STATE": 12648430,
       "RESET_INDEX_VALUES": false,
       "ROW_SAMPLING_METHOD": "random",
       "SAMPLING_FACTOR": 0.1,
       "SAMPLING_METHOD": "random",
       "STRINGIFY_COLUMN_VALUES": true,
       "STRINGIFY_INDEX_VALUES": false
      },
      "sample_history": [],
      "sampling_time": "2023-09-05T08:25:33.885244",
      "user_variable_name": null,
      "variable_name": "unk_dataframe_dc7e0fa826294d6dbe5adf7a482ae0c5"
     },
     "b18d8c01-d056-4efc-86c1-1c72ae870a87": {
      "applied_filters": [],
      "dataframe_info": {
       "default_index_used": false,
       "orig_num_cols": 1,
       "orig_num_rows": 11,
       "orig_size_bytes": 176,
       "truncated_num_cols": 1,
       "truncated_num_rows": 11,
       "truncated_size_bytes": 176,
       "truncated_string_columns": []
      },
      "display_id": "b18d8c01-d056-4efc-86c1-1c72ae870a87",
      "dx_settings": {
       "ALLOW_NOTEABLE_ATTRS": true,
       "COLUMN_SAMPLING_METHOD": "outer",
       "DB_LOCATION": ":memory:",
       "DEV_MODE": false,
       "DISPLAY_MAX_COLUMNS": 100,
       "DISPLAY_MAX_ROWS": 50000,
       "DISPLAY_MODE": "simple",
       "ENABLE_ASSIGNMENT": true,
       "ENABLE_DATALINK": true,
       "FLATTEN_COLUMN_VALUES": true,
       "FLATTEN_INDEX_VALUES": false,
       "GENERATE_DEX_METADATA": false,
       "HTML_TABLE_SCHEMA": false,
       "LOG_LEVEL": 30,
       "MAX_RENDER_SIZE_BYTES": 104857600,
       "MAX_STRING_LENGTH": 250,
       "NUM_PAST_SAMPLES_TRACKED": 3,
       "RANDOM_STATE": 12648430,
       "RESET_INDEX_VALUES": false,
       "ROW_SAMPLING_METHOD": "random",
       "SAMPLING_FACTOR": 0.1,
       "SAMPLING_METHOD": "random",
       "STRINGIFY_COLUMN_VALUES": true,
       "STRINGIFY_INDEX_VALUES": false
      },
      "sample_history": [],
      "sampling_time": "2023-09-04T12:22:09.761145",
      "user_variable_name": null,
      "variable_name": "unk_dataframe_58bc2d1a775b42389352116311ab6b9d"
     }
    },
    "noteable": {
     "cell_type": "python",
     "output_collection_id": "dc0c5791-2a3a-4870-a7e6-a2a1b8544b20"
    }
   },
   "outputs": [
    {
     "data": {
      "text/plain": [
       "Rank              0\n",
       "Name              0\n",
       "Platform          0\n",
       "Year            271\n",
       "Genre             0\n",
       "Publisher        56\n",
       "NA_Sales          0\n",
       "EU_Sales          0\n",
       "JP_Sales          0\n",
       "Other_Sales       0\n",
       "Global_Sales      0\n",
       "dtype: int64"
      ]
     },
     "execution_count": 8,
     "metadata": {},
     "output_type": "execute_result"
    }
   ],
   "source": [
    "# Looking for null values \n",
    "data.isnull().sum()"
   ]
  },
  {
   "cell_type": "code",
   "execution_count": 9,
   "id": "f9336fdd-5fd1-4480-b8e7-0cab8bdc32cc",
   "metadata": {
    "ExecuteTime": {
     "end_time": "2023-09-05T08:25:36.418549+00:00",
     "start_time": "2023-09-05T08:25:36.261563+00:00"
    },
    "noteable": {
     "cell_type": "code",
     "output_collection_id": "f45ea6b7-8f5d-4ca3-bd72-1bd78350089a"
    }
   },
   "outputs": [],
   "source": [
    "import numpy as np\n",
    "\n",
    "# Replace 'Null values' with np.nan\n",
    "data = data.replace('No data available', np.nan)\n",
    "\n",
    "# Replace missing 'Publisher' values with 'Unknown'\n",
    "data['Publisher'].fillna('Unknown', inplace=True)"
   ]
  },
  {
   "cell_type": "markdown",
   "id": "bc5faa19-e496-4124-987f-5d841123cd84",
   "metadata": {
    "noteable": {
     "cell_type": "markdown"
    }
   },
   "source": [
    "## 5. Exploratory data analysis (EDA)\n",
    "In this section, we will go into a more detailed analysis of the data and seek to draw conclusions that will provide us with valuable information about this dataset. "
   ]
  },
  {
   "cell_type": "markdown",
   "id": "0b5fd525-030d-412e-8b43-19a79e1a3129",
   "metadata": {
    "noteable": {
     "cell_type": "markdown"
    }
   },
   "source": [
    "## 6. Genre analysis"
   ]
  },
  {
   "cell_type": "code",
   "execution_count": 10,
   "id": "ebb06a31-b889-4827-b79e-bc918003202c",
   "metadata": {
    "ExecuteTime": {
     "end_time": "2023-09-05T08:25:39.512122+00:00",
     "start_time": "2023-09-05T08:25:39.355542+00:00"
    },
    "noteable": {
     "cell_type": "python",
     "output_collection_id": "7454e6cd-fa6e-4017-9ded-3c37a1d17eab"
    }
   },
   "outputs": [],
   "source": [
    "genre_counts = data['Genre'].value_counts()"
   ]
  },
  {
   "cell_type": "code",
   "execution_count": 11,
   "id": "9cd1f325-55de-4257-9f48-940ae26b4de2",
   "metadata": {
    "ExecuteTime": {
     "end_time": "2023-09-05T08:25:41.406983+00:00",
     "start_time": "2023-09-05T08:25:40.876109+00:00"
    },
    "collapsed": false,
    "jupyter": {
     "outputs_hidden": false,
     "source_hidden": false
    },
    "noteable": {
     "cell_type": "code",
     "output_collection_id": "45e83b47-98fb-4a4f-b118-7b96cb1f5f99"
    }
   },
   "outputs": [
    {
     "data": {
      "image/png": "[encoded data removed]",
      "text/plain": [
       "<Figure size 864x432 with 1 Axes>"
      ]
     },
     "metadata": {},
     "output_type": "display_data"
    }
   ],
   "source": [
    "import seaborn as sns\n",
    "import matplotlib.pyplot as plt\n",
    "\n",
    "# Set a whitegrid style and a neutral color palette\n",
    "sns.set(style=\"whitegrid\", palette=\"pastel\")\n",
    "\n",
    "# Create a bar plot of genres and their frequencies\n",
    "plt.figure(figsize=(12, 6))  # Adjust the plot size\n",
    "sns.barplot(x=genre_counts.values, y=genre_counts.index, palette=\"magma\")\n",
    "\n",
    "# Configure labels and title\n",
    "plt.xlabel(\"Count\")\n",
    "plt.ylabel(\"Genre\")\n",
    "\n",
    "# Show the plot\n",
    "plt.show()"
   ]
  },
  {
   "cell_type": "markdown",
   "id": "860c1a98-629c-4980-a045-0322bbe66fd0",
   "metadata": {
    "noteable": {
     "cell_type": "markdown"
    }
   },
   "source": [
    "We can see that the population is leaning mostly towards action and/or sports games. \n",
    "\n",
    "- Action: 3316 games released.\n",
    "- Sports: 2346 games released. "
   ]
  },
  {
   "cell_type": "markdown",
   "id": "8e76506e-c854-4dda-b071-76c7d8fcb761",
   "metadata": {
    "noteable": {
     "cell_type": "markdown"
    }
   },
   "source": [
    "## 7. Videogames releases between 1980 and 2015 "
   ]
  },
  {
   "cell_type": "code",
   "execution_count": 12,
   "id": "5f19ec8a-9b79-4c0c-8fdd-8c734eb0cb1f",
   "metadata": {
    "ExecuteTime": {
     "end_time": "2023-09-05T08:25:45.631092+00:00",
     "start_time": "2023-09-05T08:25:45.005623+00:00"
    },
    "noteable": {
     "cell_type": "python",
     "output_collection_id": "0c87fb35-8fd9-4d73-bdc9-af719b970640"
    }
   },
   "outputs": [
    {
     "data": {
      "image/png": "[encoded data removed]",
      "text/plain": [
       "<Figure size 864x432 with 1 Axes>"
      ]
     },
     "metadata": {},
     "output_type": "display_data"
    }
   ],
   "source": [
    "import seaborn as sns\n",
    "import matplotlib.pyplot as plt\n",
    "\n",
    "# Group the data by year and count how many games were released in each year\n",
    "games_per_year = data['Year'].value_counts().sort_index()\n",
    "\n",
    "# Filter out years that are not null\n",
    "games_per_year = games_per_year[games_per_year.index.notnull()]\n",
    "\n",
    "# Create a bar chart\n",
    "plt.figure(figsize=(12, 6))\n",
    "sns.barplot(x=games_per_year.index, y=games_per_year.values, palette=\"magma\")\n",
    "\n",
    "# Configure labels and title\n",
    "plt.xlabel(\"Year\")\n",
    "plt.ylabel(\"Number of Games Released\")\n",
    "plt.title(\"Number of Video Games Released by Year\")\n",
    "\n",
    "# Rotate x-axis labels for better readability\n",
    "plt.xticks(rotation=90)\n",
    "\n",
    "# Show the plot\n",
    "plt.show()"
   ]
  },
  {
   "cell_type": "markdown",
   "id": "2ac1ec03-e478-41e8-9067-743be342eac1",
   "metadata": {
    "noteable": {
     "cell_type": "markdown"
    }
   },
   "source": [
    "With this visualization, we can see how between the years 2007-2010 there is a kind of \"boom\" within the video game industry and people for acquiring them.\n",
    "\n",
    "- 2009.0 -> 1431\n",
    "- 2008.0 -> 1428\n",
    "- 2010.0 -> 1259\n",
    "- 2007.0 -> 1202\n",
    "- 2011.0 -> 1139"
   ]
  },
  {
   "cell_type": "markdown",
   "id": "d1c0e50f-4d5d-4f48-9a5d-da5c41484559",
   "metadata": {
    "noteable": {
     "cell_type": "markdown"
    }
   },
   "source": [
    "## 8. Top 5 years games released by genre."
   ]
  },
  {
   "cell_type": "code",
   "execution_count": 13,
   "id": "5627341d-e2f8-41d1-ab92-72c982ef1027",
   "metadata": {
    "ExecuteTime": {
     "end_time": "2023-09-05T08:28:05.484324+00:00",
     "start_time": "2023-09-05T08:28:04.841396+00:00"
    },
    "noteable": {
     "cell_type": "python",
     "output_collection_id": "54e83772-159a-4622-893c-238cc82c38c3"
    }
   },
   "outputs": [
    {
     "data": {
      "image/png": "[encoded data removed]",
      "text/plain": [
       "<Figure size 2160x720 with 1 Axes>"
      ]
     },
     "metadata": {},
     "output_type": "display_data"
    }
   ],
   "source": [
    "# Define a custom color palette\n",
    "custom_palette = sns.color_palette(\"Set2\")\n",
    "\n",
    "# Create the figure and set the custom palette\n",
    "plt.figure(figsize=(30, 10))\n",
    "sns.set_palette(custom_palette)\n",
    "\n",
    "# Create the countplot\n",
    "sns.countplot(x=\"Year\", data=data, hue='Genre', order=data.Year.value_counts().iloc[:5].index)\n",
    "\n",
    "# Customize the x-axis ticks\n",
    "plt.xticks(size=16, rotation=90)\n",
    "\n",
    "# Add labels, titles, and legends if needed\n",
    "plt.xlabel(\"Year\", size=18)\n",
    "plt.ylabel(\"Count\", size=18)\n",
    "plt.title(\"Video Game Genre Count Over the Years\", size=20)\n",
    "plt.legend(title=\"Genre\", fontsize=14, title_fontsize=16)\n",
    "\n",
    "# Show the plot\n",
    "plt.show()"
   ]
  },
  {
   "cell_type": "markdown",
   "id": "1caf97c7-4bf9-457b-8a8a-1c21d2339016",
   "metadata": {
    "noteable": {
     "cell_type": "markdown"
    }
   },
   "source": [
    "## 9. Global sales over the years"
   ]
  },
  {
   "cell_type": "code",
   "execution_count": 14,
   "id": "e27a840b-0f6c-4550-8d57-d21465a3d9b5",
   "metadata": {
    "ExecuteTime": {
     "end_time": "2023-09-04T12:22:23.854450+00:00",
     "start_time": "2023-09-04T12:22:23.411427+00:00"
    },
    "noteable": {
     "cell_type": "python",
     "output_collection_id": "6c93eed8-d0a0-47f1-ac88-b685e937f643"
    }
   },
   "outputs": [
    {
     "data": {
      "image/png": "[encoded data removed]",
      "text/plain": [
       "<Figure size 864x432 with 1 Axes>"
      ]
     },
     "metadata": {},
     "output_type": "display_data"
    }
   ],
   "source": [
    "import seaborn as sns\n",
    "import matplotlib.pyplot as plt\n",
    "\n",
    "# Group the data by year and sum global sales for each year\n",
    "yearly_sales = data.groupby('Year')['Global_Sales'].sum()\n",
    "\n",
    "# Filter out non-null years\n",
    "yearly_sales = yearly_sales[yearly_sales.index.notnull()]\n",
    "\n",
    "# Create a line plot\n",
    "plt.figure(figsize=(12, 6))\n",
    "sns.lineplot(x=yearly_sales.index, y=yearly_sales.values, marker='o', linestyle='-', color='b')\n",
    "\n",
    "# Configure labels and title\n",
    "plt.xlabel(\"Year\")\n",
    "plt.ylabel(\"Global Sales (in millions)\")\n",
    "plt.title(\"Global Sales of Video Games Over the Years\")\n",
    "\n",
    "# Show the plot\n",
    "plt.show()\n"
   ]
  },
  {
   "cell_type": "markdown",
   "id": "06f03f21-5289-4bc9-a3c1-42eec8471695",
   "metadata": {
    "noteable": {
     "cell_type": "markdown"
    }
   },
   "source": [
    "In this case, if the trend of 2008-2009 as the best years for global sales is repeated."
   ]
  },
  {
   "cell_type": "markdown",
   "id": "5a5f3a48-5331-436d-bb40-e9173005dd64",
   "metadata": {
    "noteable": {
     "cell_type": "markdown"
    }
   },
   "source": [
    "## 10. Top 10 best-selling videogames"
   ]
  },
  {
   "cell_type": "code",
   "execution_count": 15,
   "id": "59cc53ba-aa36-409e-ae7a-cefcdb7db8bd",
   "metadata": {
    "ExecuteTime": {
     "end_time": "2023-09-04T12:40:15.120628+00:00",
     "start_time": "2023-09-04T12:40:14.670322+00:00"
    },
    "noteable": {
     "cell_type": "python",
     "output_collection_id": "ef1158df-e8bf-4ecd-b57c-fbfc9fe7d31e"
    }
   },
   "outputs": [
    {
     "data": {
      "image/png": "[encoded data removed]",
      "text/plain": [
       "<Figure size 864x432 with 1 Axes>"
      ]
     },
     "metadata": {},
     "output_type": "display_data"
    }
   ],
   "source": [
    "# Global Top 10 Games\n",
    "top_global_games = data[['Name', 'Global_Sales']].nlargest(10, 'Global_Sales')\n",
    "\n",
    "# Plot the global top 10 games\n",
    "plt.figure(figsize=(12, 6))\n",
    "sns.barplot(x='Global_Sales', y='Name', data=top_global_games, palette='magma')\n",
    "plt.title('Top 10 Best-Selling Games Globally')\n",
    "plt.xlabel('Global Sales (in millions)')\n",
    "plt.ylabel('Game Title')\n",
    "plt.show()"
   ]
  },
  {
   "cell_type": "markdown",
   "id": "4115505e-2db8-4fe0-94c5-80c38d8340d6",
   "metadata": {
    "noteable": {
     "cell_type": "markdown"
    }
   },
   "source": [
    "The clear winner is wii sports, but it is also interesting to see how nintendo video games are the most predominant among the best sellers of the dataset.\n",
    "\n",
    "This trend can be seen due to the popularity over the years of the Wii console and also shows that these games never go out of fashion."
   ]
  },
  {
   "cell_type": "markdown",
   "id": "36afb885-3bdf-4b52-a8f8-e8ed33a1958a",
   "metadata": {
    "noteable": {
     "cell_type": "markdown"
    }
   },
   "source": [
    "## 11. Which genre game has been released the most in a single year?"
   ]
  },
  {
   "cell_type": "code",
   "execution_count": 16,
   "id": "4d643b09-7bbd-4b95-9df6-1100d9f3aa18",
   "metadata": {
    "ExecuteTime": {
     "end_time": "2023-09-05T08:43:32.003234+00:00",
     "start_time": "2023-09-05T08:43:31.842351+00:00"
    },
    "noteable": {
     "cell_type": "python",
     "output_collection_id": "86fe8f58-fbef-4728-baab-07e7f6c1e947"
    }
   },
   "outputs": [],
   "source": [
    "# Group the data by 'Year' and 'Genre', and calculate the count of each combination\n",
    "year_max_df = data.groupby(['Year', 'Genre']).size().reset_index(name='count')\n",
    "\n",
    "# Identify the rows where the 'count' is equal to the maximum count for each 'Year'\n",
    "year_max_idx = year_max_df.groupby(['Year'])['count'].transform(max) == year_max_df['count']\n",
    "\n",
    "# Create a DataFrame containing the most popular genre for each year\n",
    "year_max_genre = year_max_df[year_max_idx].reset_index(drop=True)\n",
    "\n",
    "# Remove duplicate entries based on both 'Year' and 'count', keeping the last occurrence\n",
    "year_max_genre = year_max_genre.drop_duplicates(subset=[\"Year\", \"count\"], keep='last').reset_index(drop=True)"
   ]
  },
  {
   "cell_type": "code",
   "execution_count": 17,
   "id": "31336f1a-0e5d-490d-ba73-e059e399a7e9",
   "metadata": {
    "ExecuteTime": {
     "end_time": "2023-09-05T08:43:33.687691+00:00",
     "start_time": "2023-09-05T08:43:33.533383+00:00"
    },
    "collapsed": false,
    "jupyter": {
     "outputs_hidden": false
    },
    "noteable": {
     "cell_type": "code",
     "output_collection_id": "038c2c30-69d7-4882-a122-dc25fe90b7e1"
    }
   },
   "outputs": [],
   "source": [
    "genre = year_max_genre['Genre'].values"
   ]
  },
  {
   "cell_type": "code",
   "execution_count": 18,
   "id": "d755961b-6295-47ba-8b30-38307693b7ee",
   "metadata": {
    "ExecuteTime": {
     "end_time": "2023-09-05T08:44:56.120111+00:00",
     "start_time": "2023-09-05T08:44:55.222711+00:00"
    },
    "collapsed": false,
    "jupyter": {
     "outputs_hidden": false
    },
    "noteable": {
     "cell_type": "code",
     "output_collection_id": "f8197148-304b-496c-ab13-638ce9b826f5"
    }
   },
   "outputs": [
    {
     "data": {
      "image/png": "[encoded data removed]",
      "text/plain": [
       "<Figure size 2160x1080 with 1 Axes>"
      ]
     },
     "metadata": {},
     "output_type": "display_data"
    }
   ],
   "source": [
    "# Define a custom color palette\n",
    "custom_palette = sns.color_palette(\"Set2\")\n",
    "\n",
    "# Create a figure with a specific size\n",
    "plt.figure(figsize=(30, 15))\n",
    "sns.set_palette(custom_palette)\n",
    "\n",
    "# Create the barplot using Seaborn\n",
    "g = sns.barplot(x='Year', y='count', data=year_max_genre)\n",
    "\n",
    "# Initialize an index variable for iterating through values\n",
    "index = 0\n",
    "\n",
    "# Add genre labels on top of the bars\n",
    "for value in year_max_genre['count'].values:\n",
    "    # Extract the genre and count for the current index\n",
    "    genre_count = str(genre[index] + '----' + str(value))\n",
    "    \n",
    "    # Add a text label above the bar, with customization\n",
    "    g.text(index, value + 5, genre_count, color='#000', size=14, rotation=90, ha=\"center\")\n",
    "    \n",
    "    # Increment the index for the next iteration\n",
    "    index += 1\n",
    "\n",
    "# Customize the x-axis ticks by rotating them\n",
    "plt.xticks(rotation=90)\n",
    "\n",
    "# Display the plot\n",
    "plt.show()"
   ]
  },
  {
   "cell_type": "markdown",
   "id": "26cd1ca6-9b94-456f-bd19-dc4350d517bb",
   "metadata": {
    "noteable": {
     "cell_type": "markdown"
    }
   },
   "source": [
    "We can clearly see how the three peaks within this graph are taken by the action genre, which is not surprising since it follows the clear trend of the first analysis/graph of this study.\n",
    "\n",
    "- 2009 Action: 272 releases\n",
    "- 2012 Action: 212 releases\n",
    "- 2015 Action: 255 releases"
   ]
  },
  {
   "cell_type": "markdown",
   "id": "e20f7e17-3f38-4c1f-b50d-8099786831ea",
   "metadata": {
    "noteable": {
     "cell_type": "markdown"
    }
   },
   "source": [
    "## 12. Platform perfomance "
   ]
  },
  {
   "cell_type": "code",
   "execution_count": 19,
   "id": "46e19a05-16bd-4636-9357-96ba5d05cb78",
   "metadata": {
    "ExecuteTime": {
     "end_time": "2023-09-04T12:32:19.115745+00:00",
     "start_time": "2023-09-04T12:32:18.563547+00:00"
    },
    "noteable": {
     "cell_type": "python",
     "output_collection_id": "766f3563-aa67-4a39-8673-0b15016ca1fb"
    }
   },
   "outputs": [
    {
     "data": {
      "image/png": "[encoded data removed]",
      "text/plain": [
       "<Figure size 864x432 with 1 Axes>"
      ]
     },
     "metadata": {},
     "output_type": "display_data"
    }
   ],
   "source": [
    "# Global Platform Sales\n",
    "global_platform_sales = data.groupby('Platform')['Global_Sales'].sum().sort_values(ascending=False)\n",
    "\n",
    "# Plot a bar chart for global platform sales\n",
    "plt.figure(figsize=(12, 6))\n",
    "sns.barplot(x=global_platform_sales.values, y=global_platform_sales.index, palette='plasma')\n",
    "plt.title('Global Sales by Platform')\n",
    "plt.xlabel('Global Sales (in millions)')\n",
    "plt.ylabel('Platform')\n",
    "plt.show()"
   ]
  },
  {
   "cell_type": "markdown",
   "id": "448d33f4-df59-4880-b6c3-facb81bfe39e",
   "metadata": {
    "noteable": {
     "cell_type": "markdown"
    }
   },
   "source": [
    "Despite the dominance of video games developed by Nintendo, which only work on their consoles, we see how PS2 and Xbox 360 are placed as the most demanded consoles in the market during the period of time provided in the dataset.\n",
    "\n",
    "Here we can see a clear fall of Nintendo in the world of consoles, and in turn a drop in the furor that was at the time by the Wii."
   ]
  },
  {
   "cell_type": "markdown",
   "id": "cb8f01da-1ce1-4928-9e63-1689cda6e581",
   "metadata": {
    "noteable": {
     "cell_type": "markdown"
    }
   },
   "source": [
    "## 13. Publisher insights "
   ]
  },
  {
   "cell_type": "code",
   "execution_count": 20,
   "id": "52be2e09-77dc-4c0f-8184-21de6d77fbcc",
   "metadata": {
    "ExecuteTime": {
     "end_time": "2023-09-04T12:39:44.305990+00:00",
     "start_time": "2023-09-04T12:39:43.857227+00:00"
    },
    "noteable": {
     "cell_type": "python",
     "output_collection_id": "487717b4-060f-4dc7-8437-2a61d98b1f03"
    }
   },
   "outputs": [
    {
     "data": {
      "image/png": "[encoded data removed]",
      "text/plain": [
       "<Figure size 864x432 with 1 Axes>"
      ]
     },
     "metadata": {},
     "output_type": "display_data"
    }
   ],
   "source": [
    "# Global Publisher Sales\n",
    "global_publisher_sales = data.groupby('Publisher')['Global_Sales'].sum().nlargest(10)\n",
    "\n",
    "# Plot a bar chart for top publishers\n",
    "plt.figure(figsize=(12, 6))\n",
    "sns.barplot(x=global_publisher_sales.values, y=global_publisher_sales.index, palette='magma')\n",
    "plt.title('Top Publishers by Global Sales')\n",
    "plt.xlabel('Global Sales (in millions)')\n",
    "plt.ylabel('Publisher')\n",
    "plt.show()"
   ]
  },
  {
   "cell_type": "markdown",
   "id": "cf24eb20-6993-4cb2-82c7-801ccc5f1198",
   "metadata": {
    "noteable": {
     "cell_type": "markdown"
    }
   },
   "source": [
    "Here we can clearly see how Nintendo is the dominator with a clear difference, exceeding 1750 million in worldwide sales. "
   ]
  }
 ],
 "metadata": {
  "kernel_info": {
   "name": "python3"
  },
  "kernelspec": {
   "display_name": "Python 3 (ipykernel)",
   "language": "python",
   "name": "python3"
  },
  "language_info": {
   "codemirror_mode": {
    "name": "ipython",
    "version": 3
   },
   "file_extension": ".py",
   "mimetype": "text/x-python",
   "name": "python",
   "nbconvert_exporter": "python",
   "pygments_lexer": "ipython3",
   "version": "3.9.7"
  },
  "noteable": {
   "last_transaction_id": "00315fbd-de37-488d-8b8b-d15295e088ad"
  },
  "selected_hardware_size": "small"
 },
 "nbformat": 4,
 "nbformat_minor": 5
}
